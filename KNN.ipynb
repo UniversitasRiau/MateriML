{
 "cells": [
  {
   "cell_type": "markdown",
   "metadata": {},
   "source": [
    "# K-Nearest Neighbors\n",
    "\n",
    "#### Jessica Morrise"
   ]
  },
  {
   "cell_type": "code",
   "execution_count": 2,
   "metadata": {
    "collapsed": false
   },
   "outputs": [
    {
     "name": "stdout",
     "output_type": "stream",
     "text": [
      "\n"
     ]
    }
   ],
   "source": [
    "%matplotlib inline\n",
    "import numpy as np\n",
    "from matplotlib import pyplot as plt\n",
    "from sklearn.datasets import load_iris\n",
    "from sklearn.cross_validation import train_test_split"
   ]
  },
  {
   "cell_type": "markdown",
   "metadata": {},
   "source": [
    "These functions find the $k$ closest known data points to a new sample $x$. This is called the _$k$-neighboorhood_. The points in the $k$-neighborhood vote on a label for $x$."
   ]
  },
  {
   "cell_type": "code",
   "execution_count": 3,
   "metadata": {
    "collapsed": true
   },
   "outputs": [],
   "source": [
    "def k_neighborhood(x, data, labels,  k):\n",
    "    # data is a NumPy array of data, N x p\n",
    "    # N is the number of datapoints, p is the number of features\n",
    "    # labels is the labels of the data\n",
    "    dists = np.linalg.norm(data - x, axis=1)\n",
    "    k_idx = np.argsort(dists)[:k]\n",
    "    return data[k_idx], labels[k_idx]"
   ]
  },
  {
   "cell_type": "code",
   "execution_count": 4,
   "metadata": {
    "collapsed": false
   },
   "outputs": [],
   "source": [
    "def label_sample(x, data, labels, k):\n",
    "    # assume the labels are integers starting at 0\n",
    "    neighbors, k_labels = k_neighborhood(x, data, labels, k)\n",
    "    counts = np.bincount(k_labels)\n",
    "    i = np.argmax(counts)\n",
    "    return i"
   ]
  },
  {
   "cell_type": "markdown",
   "metadata": {},
   "source": [
    "This class implements a simple K-Nearest Neighbors classifier."
   ]
  },
  {
   "cell_type": "code",
   "execution_count": 5,
   "metadata": {
    "collapsed": false
   },
   "outputs": [],
   "source": [
    "class KNN(object):\n",
    "    \n",
    "    def __init__(self):\n",
    "        pass\n",
    "    \n",
    "    def k_neighborhood(self, x, k):\n",
    "        # data is a NumPy array of data, N x p\n",
    "        # N is the number of datapoints, p is the number of features\n",
    "        # labels is the labels of the data\n",
    "        dists = np.linalg.norm(self.data - x, axis=1)\n",
    "        k_idx = np.argsort(dists)[:k]\n",
    "        return self.data[k_idx], self.labels[k_idx]\n",
    "    \n",
    "    def train(self,data, labels):\n",
    "        self.data = data\n",
    "        self.labels = labels\n",
    "        \n",
    "    def classify(self,sample,k):\n",
    "        # assume the labels are integers starting at 0\n",
    "        neighbors, k_labels = self.k_neighborhood(sample, k)\n",
    "        counts = np.bincount(k_labels)\n",
    "        j = np.argmax(counts)\n",
    "        return j\n",
    "    \n",
    "    def classify_many(self,samples,k,true_labels=None):\n",
    "        N = samples.shape[0]\n",
    "        predicted_labels = np.zeros((N))\n",
    "        for i in xrange(N):\n",
    "            predicted_labels[i] = self.classify(samples[i],k)\n",
    "        if true_labels is None:\n",
    "            accuracy = None\n",
    "        else:\n",
    "            accuracy = np.sum(np.equal(predicted_labels,true_labels))/float(N)\n",
    "        return predicted_labels, accuracy  "
   ]
  },
  {
   "cell_type": "markdown",
   "metadata": {},
   "source": [
    "### The Iris Data\n",
    "\n",
    "The Iris data set is a classic classification data set. The data set consists of measurements of flower specimens. There are 4 features and 3 classes."
   ]
  },
  {
   "cell_type": "code",
   "execution_count": 12,
   "metadata": {
    "collapsed": false
   },
   "outputs": [
    {
     "name": "stdout",
     "output_type": "stream",
     "text": [
      "[[ 5.1  3.5  1.4  0.2]\n",
      " [ 4.9  3.   1.4  0.2]\n",
      " [ 4.7  3.2  1.3  0.2]\n",
      " [ 4.6  3.1  1.5  0.2]\n",
      " [ 5.   3.6  1.4  0.2]\n",
      " [ 5.4  3.9  1.7  0.4]\n",
      " [ 4.6  3.4  1.4  0.3]]\n"
     ]
    }
   ],
   "source": [
    "iris = load_iris()\n",
    "iris_data = iris.data\n",
    "iris_labels = iris.target\n",
    "print iris_data[:7]\n",
    "iris_train_data,iris_test_data,iris_train_labels,iris_test_labels = train_test_split(iris_data,iris_labels,test_size=0.3)"
   ]
  },
  {
   "cell_type": "markdown",
   "metadata": {},
   "source": [
    "With $k = 5$, training on 70% of the data, our KNN classifier achieves 95.6% accuracy."
   ]
  },
  {
   "cell_type": "code",
   "execution_count": 7,
   "metadata": {
    "collapsed": false
   },
   "outputs": [],
   "source": [
    "model = KNN()\n",
    "model.train(iris_train_data, iris_train_labels)\n",
    "predicted_labels, accuracy = model.classify_many(iris_test_data,5,iris_test_labels)"
   ]
  },
  {
   "cell_type": "code",
   "execution_count": 8,
   "metadata": {
    "collapsed": false
   },
   "outputs": [
    {
     "name": "stdout",
     "output_type": "stream",
     "text": [
      "Accuracy: 0.955555555556\n"
     ]
    }
   ],
   "source": [
    "print \"Accuracy:\",accuracy"
   ]
  },
  {
   "cell_type": "markdown",
   "metadata": {},
   "source": [
    "To determine an optimal value for $k$, we run our classifier on a range of $k$ values from 1 to 100. Accuracy is good until about $k = 30$. At this point, the $k$ closest points are not actually very close anymore, and the votes of dissimilar points start to outweight the votes of similar ones."
   ]
  },
  {
   "cell_type": "code",
   "execution_count": 27,
   "metadata": {
    "collapsed": false
   },
   "outputs": [],
   "source": [
    "A = []\n",
    "k_max = 100\n",
    "for k in xrange(1,k_max+1):\n",
    "    predicted_labels, accuracy = model.classify_many(iris_test_data,k,iris_test_labels)\n",
    "    A.append(accuracy)"
   ]
  },
  {
   "cell_type": "code",
   "execution_count": 28,
   "metadata": {
    "collapsed": false
   },
   "outputs": [
    {
     "data": {
      "image/png": "[encoded data removed]",
      "text/plain": [
       "<matplotlib.figure.Figure at 0x7f2ccce874d0>"
      ]
     },
     "metadata": {},
     "output_type": "display_data"
    }
   ],
   "source": [
    "plt.plot(np.arange(1,k_max+1),A)\n",
    "plt.title('Accuracy as a function of k')\n",
    "plt.xlabel('k')\n",
    "plt.ylabel('Classification accuracy')\n",
    "plt.show()"
   ]
  }
 ],
 "metadata": {
  "kernelspec": {
   "display_name": "Python 2",
   "language": "python",
   "name": "python2"
  },
  "language_info": {
   "codemirror_mode": {
    "name": "ipython",
    "version": 2
   },
   "file_extension": ".py",
   "mimetype": "text/x-python",
   "name": "python",
   "nbconvert_exporter": "python",
   "pygments_lexer": "ipython2",
   "version": "2.7.11"
  }
 },
 "nbformat": 4,
 "nbformat_minor": 0
}
