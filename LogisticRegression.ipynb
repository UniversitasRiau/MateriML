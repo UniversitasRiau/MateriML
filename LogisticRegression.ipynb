{
 "cells": [
  {
   "cell_type": "markdown",
   "metadata": {},
   "source": [
    "# Logistic Regression\n",
    "\n",
    "#### Jessica Morrise"
   ]
  },
  {
   "cell_type": "code",
   "execution_count": 7,
   "metadata": {
    "collapsed": true
   },
   "outputs": [],
   "source": [
    "%matplotlib inline\n",
    "import numpy as np\n",
    "import pandas as pd\n",
    "from matplotlib import pyplot as plt\n",
    "from sklearn.cross_validation import train_test_split\n",
    "import random\n",
    "from sklearn.linear_model import LogisticRegression\n",
    "from sklearn.naive_bayes import MultinomialNB\n",
    "from sklearn import metrics"
   ]
  },
  {
   "cell_type": "markdown",
   "metadata": {},
   "source": [
    "Function to read in and clean the data."
   ]
  },
  {
   "cell_type": "code",
   "execution_count": 2,
   "metadata": {
    "collapsed": true
   },
   "outputs": [],
   "source": [
    "def initialize(pclass_change=True):\n",
    "    '''\n",
    "    Reads and cleans passenger data from the Titanic dataset\n",
    "    '''\n",
    "    titanic_data = pd.read_csv('titanic.csv').drop(['Name','Cabin','Body','Ticket','Boat','home.dest','Embarked'], axis=1)\n",
    "    titanic_data.dropna(inplace=True)\n",
    "    def mf_boolean(mf):\n",
    "        if mf=='male':\n",
    "            return 0\n",
    "        else:\n",
    "            return 1\n",
    "    titanic_data['Sex'] = titanic_data['Sex'].apply(mf_boolean)\n",
    "    if pclass_change:\n",
    "        class_dummies = pd.get_dummies(titanic_data['Pclass'])\n",
    "        class_dummies.drop(3,axis=1,inplace=True)\n",
    "        titanic_data.drop('Pclass',axis=1,inplace=True)\n",
    "        titanic_data = pd.concat([titanic_data,class_dummies],axis=1)\n",
    "\n",
    "    \n",
    "    survived = np.array(titanic_data['Survived'])\n",
    "    titanic_data.drop('Survived',axis=1,inplace=True)\n",
    "    \n",
    "    data = np.array(titanic_data)\n",
    "    labels = np.array(survived)\n",
    "    return train_test_split(data,labels,train_size=0.6)\n"
   ]
  },
  {
   "cell_type": "code",
   "execution_count": 3,
   "metadata": {
    "collapsed": false
   },
   "outputs": [],
   "source": [
    "def best_tau(predictions, true_labels, n_tau=100, plot=True):\n",
    "    taus = np.linspace(0,1,n_tau+2)\n",
    "    #taus = taus[1:-1]\n",
    "    TPR_array = []\n",
    "    FPR_array = []\n",
    "    accuracy = []\n",
    "    for t in taus:\n",
    "        predicted_labels = np.zeros_like(predictions)\n",
    "        predicted_labels[predictions>=t] = 1\n",
    "        true_idx = np.equal(predicted_labels,true_labels)\n",
    "        true_preds = predicted_labels[true_idx]\n",
    "        false_preds = predicted_labels[np.logical_not(true_idx)]\n",
    "        TP = np.sum(true_preds==1)\n",
    "        TN = np.sum(true_preds==0)\n",
    "        FP = np.sum(false_preds==1)\n",
    "        FN = np.sum(false_preds==0)\n",
    "        #print TP, TN, FP, FN\n",
    "        TPR = float(TP)/(TP+FN)\n",
    "        FPR = float(FP)/(FP+TN)\n",
    "        TPR_array.append(TPR)\n",
    "        FPR_array.append(FPR)\n",
    "        accuracy.append(TPR-FPR)\n",
    "        #print TPR-FPR\n",
    "    best = taus[np.argmax(accuracy)]\n",
    "    if plot:\n",
    "        plt.plot(FPR_array,TPR_array)\n",
    "        plt.title('ROC curve')\n",
    "        plt.xlabel('False positive rate')\n",
    "        plt.ylabel('True positive rate')\n",
    "        plt.show()\n",
    "    return best"
   ]
  },
  {
   "cell_type": "code",
   "execution_count": 4,
   "metadata": {
    "collapsed": false
   },
   "outputs": [
    {
     "data": {
      "image/png": "[encoded data removed]",
      "text/plain": [
       "<matplotlib.figure.Figure at 0x7fdf69729fd0>"
      ]
     },
     "metadata": {},
     "output_type": "display_data"
    },
    {
     "data": {
      "text/plain": [
       "0.44554455445544555"
      ]
     },
     "execution_count": 4,
     "metadata": {},
     "output_type": "execute_result"
    }
   ],
   "source": [
    "pred_labels = np.random.rand(200)**2\n",
    "true_labels = np.random.randint(0,2,200)\n",
    "best_tau(pred_labels,true_labels)"
   ]
  },
  {
   "cell_type": "code",
   "execution_count": 5,
   "metadata": {
    "collapsed": true
   },
   "outputs": [],
   "source": [
    "def auc_scores(unchanged_logreg, changed_logreg, unchanged_bayes, changed_bayes):\n",
    "    u_logreg = LogisticRegression(C=unchanged_logreg)\n",
    "    c_logreg = LogisticRegression(C=changed_logreg)\n",
    "    u_nb = MultinomialNB(alpha=unchanged_bayes)\n",
    "    c_nb = MultinomialNB(alpha=changed_bayes)\n",
    "    \n",
    "    u_train_data,u_test_data,u_train_labels,u_test_labels = initialize(pclass_change=False)\n",
    "    c_train_data,c_test_data,c_train_labels,c_test_labels = initialize(pclass_change=True)\n",
    "    \n",
    "    u_logreg.fit(u_train_data,u_train_labels)\n",
    "    u_logreg_predictions = u_logreg.predict_proba(u_test_data)[:,1]\n",
    "    u_logreg_auc_score = metrics.roc_auc_score(u_test_labels,u_logreg_predictions)\n",
    "    \n",
    "    c_logreg.fit(c_train_data,c_train_labels)\n",
    "    c_logreg_predictions = c_logreg.predict_proba(c_test_data)[:,1]\n",
    "    c_logreg_auc_score = metrics.roc_auc_score(c_test_labels,c_logreg_predictions)\n",
    "    \n",
    "    u_nb.fit(u_train_data,u_train_labels)\n",
    "    u_nb_predictions = u_nb.predict_proba(u_test_data)[:,1]\n",
    "    u_nb_auc_score = metrics.roc_auc_score(u_test_labels,u_nb_predictions)\n",
    "    \n",
    "    c_nb.fit(c_train_data,c_train_labels)\n",
    "    c_nb_predictions = c_nb.predict_proba(c_test_data)[:,1]\n",
    "    c_nb_auc_score = metrics.roc_auc_score(c_test_labels,c_nb_predictions)\n",
    "    \n",
    "    return u_logreg_auc_score,c_logreg_auc_score,u_nb_auc_score, c_nb_auc_score"
   ]
  },
  {
   "cell_type": "code",
   "execution_count": 23,
   "metadata": {
    "collapsed": false
   },
   "outputs": [
    {
     "data": {
      "text/plain": [
       "(0.83786764705882366,\n",
       " 0.81338371236424989,\n",
       " 0.70806451612903221,\n",
       " 0.6988189444167201)"
      ]
     },
     "execution_count": 23,
     "metadata": {},
     "output_type": "execute_result"
    }
   ],
   "source": [
    "auc_scores(1.,1.,1.,1.)"
   ]
  },
  {
   "cell_type": "code",
   "execution_count": 30,
   "metadata": {
    "collapsed": false
   },
   "outputs": [],
   "source": [
    "def find_best_parameters(choices):\n",
    "    best_vals = np.zeros(4)\n",
    "    best_auc = np.zeros(4)\n",
    "    values = np.linspace(0,1,choices+1)\n",
    "    values = values[1:-1]\n",
    "    for v in values:\n",
    "        A = auc_scores(v,v,v,v)\n",
    "        best_vals[A > best_auc] = v\n",
    "        best_auc = np.maximum(A,best_auc)\n",
    "    return best_vals"
   ]
  },
  {
   "cell_type": "code",
   "execution_count": 39,
   "metadata": {
    "collapsed": false
   },
   "outputs": [
    {
     "data": {
      "text/plain": [
       "array([ 0.2875,  0.26  ,  0.66  ,  0.1   ])"
      ]
     },
     "execution_count": 39,
     "metadata": {},
     "output_type": "execute_result"
    }
   ],
   "source": [
    "find_best_parameters(400)"
   ]
  },
  {
   "cell_type": "code",
   "execution_count": 46,
   "metadata": {
    "collapsed": true
   },
   "outputs": [],
   "source": [
    "def results():\n",
    "    fig = plt.figure(figsize=(7,7))\n",
    "    \n",
    "    params = find_best_parameters(200)\n",
    "    u_logreg = LogisticRegression(C=params[0])\n",
    "    c_logreg = LogisticRegression(C=params[1])\n",
    "    u_nb = MultinomialNB(alpha=params[2])\n",
    "    c_nb = MultinomialNB(alpha=params[3])\n",
    "    \n",
    "    u_train_data,u_test_data,u_train_labels,u_test_labels = initialize(pclass_change=False)\n",
    "    c_train_data,c_test_data,c_train_labels,c_test_labels = initialize(pclass_change=True)\n",
    "    \n",
    "    u_logreg.fit(u_train_data,u_train_labels)\n",
    "    u_logreg_predictions = u_logreg.predict_proba(u_test_data)[:,1]\n",
    "    fpr,tpr,t = metrics.roc_curve(u_test_labels,u_logreg_predictions)\n",
    "    plt.plot(fpr,tpr,label='Unchanged Log Reg')\n",
    "    \n",
    "    c_logreg.fit(c_train_data,c_train_labels)\n",
    "    c_logreg_predictions = c_logreg.predict_proba(c_test_data)[:,1]\n",
    "    fpr, tpr,t = metrics.roc_curve(c_test_labels,c_logreg_predictions)\n",
    "    plt.plot(fpr,tpr,label='Changed Log Reg')\n",
    "    \n",
    "    u_nb.fit(u_train_data,u_train_labels)\n",
    "    u_nb_predictions = u_nb.predict_proba(u_test_data)[:,1]\n",
    "    fpr, tpr,t = metrics.roc_curve(u_test_labels,u_nb_predictions)\n",
    "    plt.plot(fpr,tpr,label='Unchanged Naive Bayes')\n",
    "    \n",
    "    c_nb.fit(c_train_data,c_train_labels)\n",
    "    c_nb_predictions = c_nb.predict_proba(c_test_data)[:,1]\n",
    "    fpr, tpr,t = metrics.roc_curve(c_test_labels,c_nb_predictions)\n",
    "    plt.plot(fpr,tpr,label='Changed Naive Bayes')\n",
    "    \n",
    "    plt.legend(loc=0)\n",
    "    plt.show()"
   ]
  },
  {
   "cell_type": "code",
   "execution_count": 51,
   "metadata": {
    "collapsed": false
   },
   "outputs": [
    {
     "data": {
      "image/png": "[encoded data removed]",
      "text/plain": [
       "<matplotlib.figure.Figure at 0x7fdf66cc7290>"
      ]
     },
     "metadata": {},
     "output_type": "display_data"
    }
   ],
   "source": [
    "results()"
   ]
  },
  {
   "cell_type": "code",
   "execution_count": null,
   "metadata": {
    "collapsed": true
   },
   "outputs": [],
   "source": []
  }
 ],
 "metadata": {
  "kernelspec": {
   "display_name": "Python 2",
   "language": "python",
   "name": "python2"
  },
  "language_info": {
   "codemirror_mode": {
    "name": "ipython",
    "version": 2
   },
   "file_extension": ".py",
   "mimetype": "text/x-python",
   "name": "python",
   "nbconvert_exporter": "python",
   "pygments_lexer": "ipython2",
   "version": "2.7.11"
  }
 },
 "nbformat": 4,
 "nbformat_minor": 0
}
