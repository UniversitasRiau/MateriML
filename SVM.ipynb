{
 "cells": [
  {
   "cell_type": "markdown",
   "metadata": {},
   "source": [
    "# Support Vector Machines\n",
    "\n",
    "#### Jessica Morrise"
   ]
  },
  {
   "cell_type": "code",
   "execution_count": 11,
   "metadata": {
    "collapsed": true
   },
   "outputs": [],
   "source": [
    "import numpy as np\n",
    "import cvxopt\n",
    "from sklearn.cross_validation import train_test_split\n",
    "import pandas"
   ]
  },
  {
   "cell_type": "markdown",
   "metadata": {},
   "source": [
    "Our data set contains measurements of cells and labels of cancerous (1) or benign (-1). Before we can enter the exciting world of Suport Vector Machines, we need to read in the data and clean it a little bit. Luckily, Pandas is great at this."
   ]
  },
  {
   "cell_type": "code",
   "execution_count": 58,
   "metadata": {
    "collapsed": false
   },
   "outputs": [],
   "source": [
    "# Load data and clean it with Pandas\n",
    "cancer_data = pandas.read_csv('cancer.csv',index_col='index')\n",
    "def clean(d):\n",
    "    try:\n",
    "        return int(d)\n",
    "    except:\n",
    "        return -9999\n",
    "# Drop rows with non-numeric values\n",
    "cancer_data['bare-nuclei'] = cancer_data['bare-nuclei'].apply(clean)\n",
    "cancer_data.drop(cancer_data.index[cancer_data['bare-nuclei']==-9999],inplace=True)\n",
    "\n",
    "target = cancer_data['cancerous'].values\n",
    "data = cancer_data.drop('cancerous',axis=1).values"
   ]
  },
  {
   "cell_type": "markdown",
   "metadata": {},
   "source": [
    "Below is our SVM class. There are three possible kernels: sigmoid, polynomial, and Gaussian (RBF). "
   ]
  },
  {
   "cell_type": "code",
   "execution_count": 244,
   "metadata": {
    "collapsed": false
   },
   "outputs": [],
   "source": [
    "class SVM_classifier(object):\n",
    "    \n",
    "    def __init__(self, train_x, train_y, kernel='rbf',a=20.,d=3.,r=1.,gamma=.0005):\n",
    "        self.X = train_x.astype(float)\n",
    "        self.Y = train_y.astype(float)\n",
    "        self.a = a\n",
    "        self.d = d\n",
    "        self.r = r\n",
    "        self.g = gamma\n",
    "        self.set_kernel(kernel)\n",
    "        \n",
    "    def set_kernel(self, kernel):\n",
    "        if kernel not in ['sigmoid', 'polynomial', 'rbf']:\n",
    "            raise ValueError('Invalid kernel type')\n",
    "        elif kernel == 'sigmoid':\n",
    "            self.k = lambda x,y: np.tanh(np.inner(x,y) + self.r)\n",
    "        elif kernel == 'polynomial':\n",
    "            self.k = lambda x,y: (np.inner(x,y) + self.a)**self.d\n",
    "        elif kernel == 'rbf':\n",
    "            self.k = lambda x,y: np.exp(-self.g*np.linalg.norm(x-y)**2)\n",
    "        \n",
    "    \n",
    "    def train(self):\n",
    "        n_samples = self.X.shape[0]\n",
    "        K = np.zeros((n_samples,n_samples))\n",
    "        for i in xrange(n_samples):\n",
    "            for j in xrange(n_samples):\n",
    "                K[i,j] = self.k(self.X[i,:],self.X[j,:])\n",
    "        Q = cvxopt.matrix(np.outer(self.Y,self.Y)*K)\n",
    "        q = cvxopt.matrix(-1*np.ones(n_samples))\n",
    "        A = cvxopt.matrix(self.Y, (1,n_samples))\n",
    "        print np.shape(A)\n",
    "        b = cvxopt.matrix(0.0)\n",
    "        G = cvxopt.matrix(np.diag(np.ones(n_samples)*-1))\n",
    "        h = cvxopt.matrix(np.zeros((n_samples,1)))\n",
    "        \n",
    "        solution = cvxopt.solvers.qp(Q, q, G, h, A, b)\n",
    "        self.coeffs = np.ravel(solution['x'])\n",
    "        \n",
    "    def classify(self,x):\n",
    "        val = np.sum(self.coeffs*self.Y*self.k(self.X,x))\n",
    "        if val == 0:\n",
    "            return 1.\n",
    "        else:\n",
    "            return val/np.abs(val)\n",
    "    \n",
    "    def classify_many(self,samples,true_labels = None):\n",
    "        predictions = np.zeros(samples.shape[0])\n",
    "        for i,x in enumerate(samples):\n",
    "            predictions[i] = self.classify(x)\n",
    "        if true_labels is None:\n",
    "            accuracy = None\n",
    "        else:\n",
    "            accuracy = np.sum(np.equal(predictions,true_labels))/float(samples.shape[0])\n",
    "        return predictions, accuracy"
   ]
  },
  {
   "cell_type": "markdown",
   "metadata": {},
   "source": [
    "### Results\n",
    "\n",
    "After splitting the data into a training and test set, three models implementing each of the three kernels are tested below. These were found by experimentation to be the optimal values for the parameters:\n",
    "\n",
    "* Sigmoid kernel: $r = 1$\n",
    "* Polynomial kernel: $a = 20, d = 3$\n",
    "* RBF kernel: $\\gamma = 0.0005$\n",
    "\n",
    "In the results below, each of the models got between 60% and 75% accuracy. In previous runs, however, the models varied all the way down to 30% accuracy (in other words, much worse than guessing). The sigmoid kernel also fails to converge every time for an unknown reason."
   ]
  },
  {
   "cell_type": "code",
   "execution_count": 283,
   "metadata": {
    "collapsed": false
   },
   "outputs": [],
   "source": [
    "train_x, test_x, train_y, test_y = train_test_split(data, target, test_size=0.2)"
   ]
  },
  {
   "cell_type": "code",
   "execution_count": 291,
   "metadata": {
    "collapsed": false
   },
   "outputs": [
    {
     "name": "stdout",
     "output_type": "stream",
     "text": [
      "(1, 545)\n",
      "     pcost       dcost       gap    pres   dres\n",
      " 0: -4.9259e+02 -1.1379e+03  6e+02  3e-14  2e+00\n",
      " 1: -1.0759e+03 -1.0900e+03  1e+01  3e-14  1e+00\n",
      " 2: -8.3433e+04 -8.3444e+04  1e+01  6e-13  1e+00\n",
      " 3: -6.3064e+08 -6.3064e+08  8e+02  6e-09  1e+00\n",
      " 4: -1.9309e+12 -1.9309e+12  3e+06  2e-05  1e+00\n",
      "Terminated (singular KKT matrix).\n"
     ]
    }
   ],
   "source": [
    "model_1 = SVM_classifier(train_x, train_y, 'sigmoid')\n",
    "model_1.train()\n",
    "preds_1, accuracy_1 = model_1.classify_many(test_x,test_y)"
   ]
  },
  {
   "cell_type": "code",
   "execution_count": 280,
   "metadata": {
    "collapsed": false
   },
   "outputs": [
    {
     "name": "stdout",
     "output_type": "stream",
     "text": [
      "(1, 545)\n",
      "     pcost       dcost       gap    pres   dres\n",
      " 0: -1.4624e+01 -3.1476e+01  2e+03  3e+01  2e+00\n",
      " 1: -1.6596e+01 -9.0187e+00  4e+02  8e+00  5e-01\n",
      " 2: -6.1050e-01 -4.3595e-01  2e+01  4e-01  3e-02\n",
      " 3: -1.3418e-01 -1.2436e-01  4e+00  6e-02  4e-03\n",
      " 4: -3.7272e-02 -3.8174e-02  7e-01  1e-02  7e-04\n",
      " 5: -1.3537e-02 -1.6542e-02  2e-01  3e-03  2e-04\n",
      " 6: -6.9264e-03 -7.9409e-03  6e-02  8e-04  5e-05\n",
      " 7: -3.3781e-03 -4.0999e-03  2e-02  2e-04  2e-05\n",
      " 8: -1.8618e-03 -2.5064e-03  8e-03  7e-05  5e-06\n",
      " 9: -1.2756e-03 -1.9678e-03  4e-03  3e-05  2e-06\n",
      "10: -1.0862e-03 -1.7536e-03  3e-03  1e-05  1e-06\n",
      "11: -9.9165e-04 -1.4341e-03  1e-03  5e-06  3e-07\n",
      "12: -1.0245e-03 -1.2737e-03  4e-04  1e-06  8e-08\n",
      "13: -1.0850e-03 -1.2170e-03  2e-04  4e-07  2e-08\n",
      "14: -1.1426e-03 -1.1907e-03  5e-05  3e-19  2e-12\n",
      "15: -1.1756e-03 -1.1845e-03  9e-06  2e-19  1e-12\n",
      "16: -1.1827e-03 -1.1833e-03  6e-07  1e-19  1e-12\n",
      "17: -1.1832e-03 -1.1832e-03  6e-09  3e-19  2e-12\n",
      "Optimal solution found.\n"
     ]
    }
   ],
   "source": [
    "model_2 = SVM_classifier(train_x, train_y, 'polynomial')\n",
    "model_2.train()\n",
    "preds_2, accuracy_2 = model_2.classify_many(test_x,test_y)"
   ]
  },
  {
   "cell_type": "code",
   "execution_count": 281,
   "metadata": {
    "collapsed": false
   },
   "outputs": [
    {
     "name": "stdout",
     "output_type": "stream",
     "text": [
      "(1, 545)\n",
      "     pcost       dcost       gap    pres   dres\n",
      " 0: -8.5062e+01 -2.6567e+02  2e+03  4e+01  3e+00\n",
      " 1: -2.2059e+02 -5.5200e+02  2e+03  3e+01  2e+00\n",
      " 2: -7.7608e+02 -1.6448e+03  2e+03  3e+01  2e+00\n",
      " 3: -2.4325e+03 -3.8718e+03  2e+03  2e+01  1e+00\n",
      " 4: -4.4537e+03 -6.4140e+03  2e+03  2e+01  1e+00\n",
      " 5: -1.0191e+04 -1.3053e+04  3e+03  2e+01  1e+00\n",
      " 6: -1.9389e+04 -2.3556e+04  4e+03  1e+01  1e+00\n",
      " 7: -3.8574e+04 -4.5272e+04  7e+03  1e+01  1e+00\n",
      " 8: -8.5092e+04 -9.8637e+04  1e+04  1e+01  1e+00\n",
      " 9: -1.5647e+05 -1.8104e+05  2e+04  1e+01  1e+00\n",
      "10: -2.8161e+05 -3.3195e+05  5e+04  1e+01  1e+00\n",
      "11: -4.9211e+05 -6.0568e+05  1e+05  1e+01  8e-01\n",
      "12: -7.6147e+05 -9.4816e+05  2e+05  6e+00  4e-01\n",
      "13: -8.4183e+05 -8.7250e+05  3e+04  3e-01  3e-02\n",
      "14: -8.4613e+05 -8.5076e+05  5e+03  4e-02  3e-03\n",
      "15: -8.4700e+05 -8.4740e+05  4e+02  4e-04  3e-05\n",
      "16: -8.4732e+05 -8.4732e+05  6e+00  5e-06  4e-07\n",
      "17: -8.4732e+05 -8.4732e+05  6e-02  5e-08  4e-09\n",
      "Optimal solution found.\n"
     ]
    }
   ],
   "source": [
    "model_3 = SVM_classifier(train_x, train_y, 'rbf')\n",
    "model_3.train()\n",
    "preds_3, accuracy_3 = model_3.classify_many(test_x,test_y)"
   ]
  },
  {
   "cell_type": "code",
   "execution_count": 282,
   "metadata": {
    "collapsed": false
   },
   "outputs": [
    {
     "name": "stdout",
     "output_type": "stream",
     "text": [
      "Sigmoid: 0.642335766423\n",
      "Polynomial: 0.773722627737\n",
      "RBF: 0.63503649635\n"
     ]
    }
   ],
   "source": [
    "print 'Sigmoid:',accuracy_1\n",
    "print 'Polynomial:',accuracy_2\n",
    "print 'RBF:',accuracy_3"
   ]
  },
  {
   "cell_type": "code",
   "execution_count": null,
   "metadata": {
    "collapsed": true
   },
   "outputs": [],
   "source": []
  }
 ],
 "metadata": {
  "kernelspec": {
   "display_name": "Python 2",
   "language": "python",
   "name": "python2"
  },
  "language_info": {
   "codemirror_mode": {
    "name": "ipython",
    "version": 2
   },
   "file_extension": ".py",
   "mimetype": "text/x-python",
   "name": "python",
   "nbconvert_exporter": "python",
   "pygments_lexer": "ipython2",
   "version": "2.7.11"
  }
 },
 "nbformat": 4,
 "nbformat_minor": 0
}
