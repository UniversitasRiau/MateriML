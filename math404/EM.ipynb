{
 "cells": [
  {
   "cell_type": "markdown",
   "metadata": {},
   "source": [
    "## Expectation Maximization\n",
    "##### Jessica Morrise"
   ]
  },
  {
   "cell_type": "code",
   "execution_count": 326,
   "metadata": {
    "collapsed": false
   },
   "outputs": [],
   "source": [
    "%matplotlib inline\n",
    "import numpy as np\n",
    "from matplotlib import pyplot as plt\n",
    "import seaborn\n",
    "import pylab"
   ]
  },
  {
   "cell_type": "markdown",
   "metadata": {},
   "source": [
    "**The problem**: We have three coins, coin 1, coin 2, and coin 3, which come up heads with probabilities $\\lambda$, $p_1$, and $p_2$, respectively. We generate data as follows. First, flip coin 1 once. If coin 1 is heads, flip coin 2 three times and report the outcome. If coin 1 is tails, flip coin 3 three times and report the outcome. The outcome of coin 1 is never reported - only those for coins 2 and 3.\n",
    "\n",
    "How can we recover the parameters $\\lambda$, $p_1$, and $p_2$ given only the observed data? It turns out that the expectation maximization algorithm will converge to the right parameters, given a reasonable initial guess.\n",
    "\n",
    "To start the EM algorithm, we begin by choosing our actual values for $\\lambda$, $p_1$, and $p_2$. These are the values that the algorithm will attempt to estimate."
   ]
  },
  {
   "cell_type": "code",
   "execution_count": 492,
   "metadata": {
    "collapsed": false
   },
   "outputs": [],
   "source": [
    "L_actual = 0.7\n",
    "p1_actual = 0.75\n",
    "p2_actual = 0.31"
   ]
  },
  {
   "cell_type": "markdown",
   "metadata": {},
   "source": [
    "We set up functions to generate data, then simulate 1000 data points. The histogram below shows the frequency in our simulated data of 0, 1, 2 and 3 heads."
   ]
  },
  {
   "cell_type": "code",
   "execution_count": 493,
   "metadata": {
    "collapsed": true
   },
   "outputs": [],
   "source": [
    "def flip(p):\n",
    "    return int(np.random.rand()<p)\n",
    "\n",
    "def generate_data(n):\n",
    "    data = np.empty((n,3))\n",
    "    for i in xrange(n):\n",
    "        if flip(L_actual):\n",
    "            data[i,:] = np.array([flip(p1_actual) for j in xrange(3)])\n",
    "        else:\n",
    "            data[i,:] = np.array([flip(p2_actual) for j in xrange(3)])\n",
    "    return data"
   ]
  },
  {
   "cell_type": "code",
   "execution_count": 494,
   "metadata": {
    "collapsed": false,
    "scrolled": true
   },
   "outputs": [
    {
     "data": {
      "image/png": "[encoded data removed]",
      "text/plain": [
       "<matplotlib.figure.Figure at 0x10a6b8c50>"
      ]
     },
     "metadata": {},
     "output_type": "display_data"
    }
   ],
   "source": [
    "#Generate some data\n",
    "trials = 10000\n",
    "data = generate_data(trials)\n",
    "\n",
    "pylab.rcParams['figure.figsize'] = (7.0,4.0)\n",
    "plt.hist(data.sum(axis=1))\n",
    "plt.xlabel('Number of heads')\n",
    "plt.ylabel('Frequency')\n",
    "plt.show()"
   ]
  },
  {
   "cell_type": "markdown",
   "metadata": {},
   "source": [
    "### EM Algorithm\n",
    "We now use the expectation maximiation algorithm to estimate the values of $\\lambda$, and $p_1$, $p_2$. The function below performs a single iteration of the algorithm and returns the updated values of the parameters. "
   ]
  },
  {
   "cell_type": "code",
   "execution_count": 495,
   "metadata": {
    "collapsed": true
   },
   "outputs": [],
   "source": [
    "def iterate_parameters(L,p1,p2,D):\n",
    "    #set up prior probabilities\n",
    "    probs1 = np.empty(4)\n",
    "    probs1[3] = L*p1**3 #probability of getting 3 heads on coin 1\n",
    "    probs1[2] = L*(p1**2)*(1-p1) #probability of getting 2 heads on coin 1\n",
    "    probs1[1] = L*p1*(1-p1)**2\n",
    "    probs1[0] = L*(1-p1)**3\n",
    "\n",
    "    probs2 = np.empty((4))\n",
    "    probs2[3] = (1-L)*p2**3\n",
    "    probs2[2] = (1-L)*(p2**2)*(1-p2)\n",
    "    probs2[1] = (1-L)*p2*(1-p2)**2\n",
    "    probs2[0] = (1-L)*(1-p2)**3\n",
    "\n",
    "    lambda_probs_H = probs1/(probs1+probs2) #lambda_probs_H[3] = probability that L=H given that we saw 3 heads\n",
    "    lambda_probs_T = probs2/(probs1+probs2)\n",
    "    \n",
    "    #count data\n",
    "    N = D.shape[0]\n",
    "    D_counts = data_counts(D.sum(axis=1))\n",
    "    \n",
    "    #compute new parameters\n",
    "    L_new = np.sum(lambda_probs_H*D_counts)/N\n",
    "    p1_new = np.sum(lambda_probs_H*D_counts*np.array([0.,1.,2.,3.]))/np.sum(lambda_probs_H*D_counts*3.)\n",
    "    p2_new = np.sum(lambda_probs_T*D_counts*np.array([0.,1.,2.,3.]))/np.sum(lambda_probs_T*D_counts*3.)  \n",
    "    \n",
    "    return L_new,p1_new,p2_new\n",
    "\n",
    "def data_counts(_data):\n",
    "    return [_data[_data==k].size for k in xrange(4)]"
   ]
  },
  {
   "cell_type": "markdown",
   "metadata": {},
   "source": [
    "Below we run the actual algorithm. We use the data generated above. The initial values of the parameters are guesses based on some prior knowledge or intuition about the data."
   ]
  },
  {
   "cell_type": "code",
   "execution_count": 496,
   "metadata": {
    "collapsed": false,
    "scrolled": false
   },
   "outputs": [
    {
     "name": "stdout",
     "output_type": "stream",
     "text": [
      "Actual\n",
      "L = 0.70000\tp1 = 0.75000\tp2 = 0.31000\n",
      "\n",
      "EM\n",
      "0\tL = 0.50000\tp1 = 0.50500\tp2 = 0.50000\n",
      "10\tL = 0.50193\tp1 = 0.66587\tp2 = 0.56983\n",
      "20\tL = 0.52403\tp1 = 0.80608\tp2 = 0.41100\n",
      "30\tL = 0.54932\tp1 = 0.80101\tp2 = 0.39501\n",
      "40\tL = 0.57197\tp1 = 0.79360\tp2 = 0.38343\n",
      "50\tL = 0.59217\tp1 = 0.78706\tp2 = 0.37260\n",
      "60\tL = 0.60997\tp1 = 0.78134\tp2 = 0.36264\n",
      "70\tL = 0.62550\tp1 = 0.77636\tp2 = 0.35360\n",
      "80\tL = 0.63891\tp1 = 0.77206\tp2 = 0.34550\n",
      "90\tL = 0.65041\tp1 = 0.76836\tp2 = 0.33834\n",
      "\n",
      "Final Result\n",
      "L = 0.65930\tp1 = 0.76550\tp2 = 0.33266\n"
     ]
    }
   ],
   "source": [
    "#Prior parameters\n",
    "L = 0.5\n",
    "p1 = 0.505\n",
    "p2 = 0.5\n",
    "print \"Actual\\nL = %.5f\\tp1 = %.5f\\tp2 = %.5f\\n\"%(L_actual,p1_actual,p2_actual)\n",
    "print \"EM\\n0\\tL = %.5f\\tp1 = %.5f\\tp2 = %.5f\"%(L,p1,p2)\n",
    "\n",
    "#number of times to iterate the parameters\n",
    "n_iters = 100 \n",
    "L_array = [L]   #list to store L for plotting\n",
    "p1_array = [p1] #to store p1\n",
    "p2_array = [p2] #to store p2\n",
    "for i in xrange(1,n_iters):\n",
    "    L,p1,p2 = iterate_parameters(L,p1,p2,data)\n",
    "    if i%10 == 0:\n",
    "        print \"%d\\tL = %.5f\\tp1 = %.5f\\tp2 = %.5f\"%(i,L,p1,p2)\n",
    "    L_array.append(L)\n",
    "    p1_array.append(p1)\n",
    "    p2_array.append(p2)\n",
    "    \n",
    "print \"\\nFinal Result\\nL = %.5f\\tp1 = %.5f\\tp2 = %.5f\"%(L,p1,p2)"
   ]
  },
  {
   "cell_type": "markdown",
   "metadata": {},
   "source": [
    "Plot the estimated and actual values of $\\lambda$, and $p_1$, $p_2$ vs. the iteration number."
   ]
  },
  {
   "cell_type": "code",
   "execution_count": 497,
   "metadata": {
    "collapsed": false
   },
   "outputs": [
    {
     "data": {
      "image/png": "[encoded data removed]",
      "text/plain": [
       "<matplotlib.figure.Figure at 0x10a61e8d0>"
      ]
     },
     "metadata": {},
     "output_type": "display_data"
    }
   ],
   "source": [
    "#Plot results\n",
    "pylab.rcParams['figure.figsize'] = (15.0,3.0)\n",
    "\n",
    "domain = np.arange(n_iters)\n",
    "plt.subplot(1,3,1)\n",
    "plt.plot(domain,L_array, domain,np.ones(n_iters)*L_actual)\n",
    "plt.ylim([0,1])\n",
    "plt.title('$\\lambda$')\n",
    "\n",
    "plt.subplot(1,3,2)\n",
    "plt.plot(domain,p1_array, domain,np.ones(n_iters)*p1_actual)\n",
    "plt.ylim([0,1])\n",
    "plt.title('$p_1$')\n",
    "\n",
    "plt.subplot(1,3,3)\n",
    "plt.plot(domain,p2_array, domain,np.ones(n_iters)*p2_actual)\n",
    "plt.ylim([0,1])\n",
    "plt.title('$p_2$')\n",
    "\n",
    "plt.show()"
   ]
  },
  {
   "cell_type": "code",
   "execution_count": null,
   "metadata": {
    "collapsed": true
   },
   "outputs": [],
   "source": []
  }
 ],
 "metadata": {
  "kernelspec": {
   "display_name": "Python 2",
   "language": "python",
   "name": "python2"
  },
  "language_info": {
   "codemirror_mode": {
    "name": "ipython",
    "version": 2
   },
   "file_extension": ".py",
   "mimetype": "text/x-python",
   "name": "python",
   "nbconvert_exporter": "python",
   "pygments_lexer": "ipython2",
   "version": "2.7.11"
  }
 },
 "nbformat": 4,
 "nbformat_minor": 0
}
