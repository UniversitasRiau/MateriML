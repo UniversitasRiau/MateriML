{
 "cells": [
  {
   "cell_type": "markdown",
   "metadata": {},
   "source": [
    "## Gaussian mixture models\n",
    "##### Jessica Morrise"
   ]
  },
  {
   "cell_type": "code",
   "execution_count": 3,
   "metadata": {
    "collapsed": false
   },
   "outputs": [],
   "source": [
    "%matplotlib inline\n",
    "import numpy as np\n",
    "from matplotlib import pyplot as plt\n",
    "from scipy import stats"
   ]
  },
  {
   "cell_type": "markdown",
   "metadata": {},
   "source": [
    "The variable $k$ represents the number of Gaussians we will draw our data from. For this example, we will use only one-dimension Gaussians. We then choose the weights or mixing coefficients $L$, the means $\\mu$, and the variances $\\sigma^2$."
   ]
  },
  {
   "cell_type": "code",
   "execution_count": 84,
   "metadata": {
    "collapsed": true
   },
   "outputs": [],
   "source": [
    "k = 3\n",
    "L_actual = [0.4,0.4,0.2]\n",
    "mu_actual = [-1.0, 6.0, 2.0]\n",
    "sig_actual = [1.0, 1.0, 1.0]"
   ]
  },
  {
   "cell_type": "markdown",
   "metadata": {},
   "source": [
    "Here we generate data points and plot the data as a histogram."
   ]
  },
  {
   "cell_type": "code",
   "execution_count": 85,
   "metadata": {
    "collapsed": false
   },
   "outputs": [],
   "source": [
    "def generate_data(n):\n",
    "    data = np.empty((n,1))\n",
    "    for i in xrange(n):\n",
    "        j = 0\n",
    "        rand = np.random.rand()\n",
    "        l = L_actual[j]\n",
    "        while l < rand:\n",
    "            j += 1\n",
    "            l += L_actual[j]\n",
    "        datum = np.random.normal(loc=mu_actual[j],scale=sig_actual[j])\n",
    "        data[i] = datum\n",
    "    return data"
   ]
  },
  {
   "cell_type": "code",
   "execution_count": 86,
   "metadata": {
    "collapsed": false
   },
   "outputs": [
    {
     "data": {
      "image/png": "[encoded data removed]",
      "text/plain": [
       "<matplotlib.figure.Figure at 0x7feac8cc4190>"
      ]
     },
     "metadata": {},
     "output_type": "display_data"
    }
   ],
   "source": [
    "data = generate_data(2000)\n",
    "plt.hist(data, bins=25)\n",
    "plt.show()"
   ]
  },
  {
   "cell_type": "markdown",
   "metadata": {},
   "source": [
    "To run the GMM algorithm, we choose initial guesses for the mixing coefficients, means, and variances below. The next cell runs the algorithm for $n_{iters}$ iterations and estimates the correct values for $L$, $\\mu$, and $\\sigma^2$ for each Gaussian."
   ]
  },
  {
   "cell_type": "code",
   "execution_count": 111,
   "metadata": {
    "collapsed": true
   },
   "outputs": [],
   "source": [
    "L = [0.4,0.4,0.2]\n",
    "mu = [0.0,7.0,2.0]\n",
    "sig = [0.9, 0.9,0.9]"
   ]
  },
  {
   "cell_type": "code",
   "execution_count": 112,
   "metadata": {
    "collapsed": false
   },
   "outputs": [
    {
     "name": "stdout",
     "output_type": "stream",
     "text": [
      "\r",
      "L = [0.44656436760749263, 0.37135596192631093, 0.18207967046619636]\n",
      "mu = [-0.84091630069957801, 6.0840179692563812, 2.4412716708018123]\n",
      "sig = [1.3335736241025371, 0.78252817577438272, 1.0943245185659913]\n",
      "\n",
      "\r",
      "L = [0.45416617121070862, 0.3694375374764105, 0.17639629131288093]\n",
      "mu = [-0.7699759112079394, 6.0798796466721132, 2.4483523669311675]\n",
      "sig = [1.5437974671679318, 0.80660520798371815, 1.4180808643544169]\n",
      "\n",
      "\r",
      "L = [0.47020828199861359, 0.34806494637855528, 0.18172677162283105]\n",
      "mu = [-0.51851526811803705, 6.1090897532581971, 2.4529638792180699]\n",
      "sig = [2.2243929393289439, 0.77438777530923841, 3.8888005679985875]\n",
      "\n",
      "\r",
      "L = [0.58368327867906555, 0.30002510319115649, 0.11629161812977792]\n",
      "mu = [0.42471569708670215, 6.0676827386194727, 2.2354357473797615]\n",
      "sig = [5.1347960514649591, 0.57987181595040582, 11.425761961325282]\n",
      "\n",
      "Final:\n",
      "\r",
      "L = [0.67385154529108993, 0.25641008901900875, 0.069738365689901383]\n",
      "mu = [0.98322693276824769, 6.0571348617036085, 1.615460190867761]\n",
      "sig = [7.6708123170065132, 0.44685235018864489, 10.148855860068771]\n",
      "\n"
     ]
    }
   ],
   "source": [
    "n_iters = 8\n",
    "for t in xrange(n_iters):\n",
    "    normals = []\n",
    "    for j in xrange(k):\n",
    "        normals.append(stats.norm(loc=mu[j], scale=sig[j]))\n",
    "    p_data = sum([L[j]*normals[j].pdf(data) for j in xrange(k)])\n",
    "   \n",
    "    weights = []\n",
    "    for j in xrange(k):\n",
    "        weights.append(L[j]*normals[j].pdf(data)/p_data)\n",
    "    L = [w.mean() for w in weights]\n",
    "    mu = [np.sum(w*data)/w.sum() for w in weights]\n",
    "    sig = [np.sum(w*(data-c)**2)/w.sum() for w,c in zip(weights,mu)]\n",
    "    if t%2==0:\n",
    "        print \"\\rL = {}\\nmu = {}\\nsig = {}\\n\".format(L,mu,sig)\n",
    "        \n",
    "print \"Final:\"\n",
    "print\"\\rL = {}\\nmu = {}\\nsig = {}\\n\".format(L,mu,sig)"
   ]
  },
  {
   "cell_type": "markdown",
   "metadata": {},
   "source": [
    "Below is a visualization of our data vs. our estimations. The Gaussians we estimated are drawn in red. You can see that the algorithm is pretty finicky and is very sensitive to the inital guess."
   ]
  },
  {
   "cell_type": "code",
   "execution_count": 104,
   "metadata": {
    "collapsed": false
   },
   "outputs": [
    {
     "data": {
      "image/png": "[encoded data removed]",
      "text/plain": [
       "<matplotlib.figure.Figure at 0x7feacae5b250>"
      ]
     },
     "metadata": {},
     "output_type": "display_data"
    }
   ],
   "source": [
    "data_counts, data_x = np.histogram(data,bins=15)\n",
    "plt.bar(data_x[:-1], data_counts/float(data.shape[0]))\n",
    "\n",
    "domain = np.linspace(-5,7,101)\n",
    "for j in xrange(k):\n",
    "    plt.plot(domain, stats.norm(loc=mu[j],scale=sig[j]).pdf(domain)*L[j],color='r')\n",
    "plt.show()"
   ]
  },
  {
   "cell_type": "code",
   "execution_count": null,
   "metadata": {
    "collapsed": true
   },
   "outputs": [],
   "source": []
  }
 ],
 "metadata": {
  "kernelspec": {
   "display_name": "Python 2",
   "language": "python",
   "name": "python2"
  },
  "language_info": {
   "codemirror_mode": {
    "name": "ipython",
    "version": 2
   },
   "file_extension": ".py",
   "mimetype": "text/x-python",
   "name": "python",
   "nbconvert_exporter": "python",
   "pygments_lexer": "ipython2",
   "version": "2.7.11"
  }
 },
 "nbformat": 4,
 "nbformat_minor": 0
}
